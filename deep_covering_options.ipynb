{
 "cells": [
  {
   "cell_type": "markdown",
   "metadata": {},
   "source": [
    "# Steps\n",
    "1. Get mini-gridworld running\n",
    "2. Create policy class with variable number of actions\n",
    "3. Create a replay buffer\n",
    "\n",
    "Loop steps 4-8:\n",
    "\n",
    "4. Run a random policy to gather random samples, where actions are primitives + learned options\n",
    "5. Create a eigenvector and learn by minimizing G\n",
    "6. Determine the instantiation and termination sets\n",
    "7. Instantiate a new policy with primitive actions\n",
    "8. Learn with the eigenvector reward function\n",
    "\n",
    "\n",
    "9. Instantiate a new policy with primitives and all learned options\n",
    "10. Run experiments"
   ]
  },
  {
   "cell_type": "code",
   "execution_count": 185,
   "metadata": {},
   "outputs": [],
   "source": [
    "import torch\n",
    "from torch import nn\n",
    "from torch import optim\n",
    "from torch.distributions import Categorical\n",
    "from gym_minigrid.wrappers import *\n",
    "import matplotlib.pyplot as plt\n",
    "import numpy as np\n",
    "from einops import rearrange\n",
    "\n",
    "%matplotlib inline"
   ]
  },
  {
   "cell_type": "code",
   "execution_count": 223,
   "metadata": {},
   "outputs": [],
   "source": [
    "DEVICE = 'cuda'\n",
    "\n",
    "def make_env(max_steps=100):\n",
    "    env = gym.make('MiniGrid-FourRooms-v0')\n",
    "    env.max_steps = max_steps\n",
    "    env.env.max_steps = max_steps\n",
    "    env = FullyObsWrapper(env) # Get pixel observations\n",
    "    env = ImgObsWrapper(env) # Get rid of the 'mission' field\n",
    "    return env\n",
    "\n",
    "def render_state(env):\n",
    "    img = env.render(mode='rgb_array')\n",
    "    plt.imshow(img)\n",
    "    plt.show()\n",
    "\n",
    "def preprocess_obs(obs):\n",
    "    obs = np.array(obs, dtype=np.float32)\n",
    "    obs = obs[:, :, 0:1]\n",
    "    obs /= 10.0\n",
    "    obs = rearrange(obs, 'h w c -> c h w')\n",
    "    return obs\n",
    "\n",
    "def obs_to_tensor(obs):\n",
    "    obs = torch.from_numpy(obs).to(DEVICE)\n",
    "    if len(obs.shape) == 3:\n",
    "        obs = obs.unsqueeze(0)\n",
    "    elif len(obs.shape) != 4:\n",
    "        raise ValueError('Invalid obs shape')\n",
    "    return obs\n",
    "\n",
    "def reset_env(env, seed=None):\n",
    "    if seed is not None:\n",
    "        env.seed(seed)\n",
    "    return env.reset()"
   ]
  },
  {
   "cell_type": "code",
   "execution_count": 224,
   "metadata": {},
   "outputs": [],
   "source": [
    "# Define a policy network\n",
    "# Constructor params are the input shape and the number of actions\n",
    "# Input to the model is a 2D image\n",
    "class Policy(nn.Module):\n",
    "    def __init__(self, n_prim_actions, options=[]):\n",
    "        super().__init__()\n",
    "        self.options = options\n",
    "        self.n_prim_actions = n_prim_actions\n",
    "\n",
    "        self.conv_layers = nn.Sequential(\n",
    "            nn.Conv2d(1, 16, kernel_size=5, stride=1),\n",
    "            nn.ReLU(),\n",
    "            nn.Conv2d(16, 32, kernel_size=3, stride=1),\n",
    "            nn.ReLU(),\n",
    "            nn.Conv2d(32, 32, kernel_size=3, stride=1),\n",
    "            nn.ReLU())\n",
    "\n",
    "        self.fc_layers = nn.Sequential(\n",
    "            nn.Linear(32 * 11 * 11, 256),\n",
    "            nn.ReLU(),\n",
    "            nn.Linear(256, n_prim_actions + len(options)))\n",
    "\n",
    "        self._init_weights()\n",
    "\n",
    "    def _init_weights(self):\n",
    "        # Init output layer weights and biases to 0\n",
    "        self.fc_layers[-1].weight.data.fill_(0)\n",
    "        self.fc_layers[-1].bias.data.fill_(0)\n",
    "    \n",
    "    def forward(self, x):\n",
    "        x = self.conv_layers(x)\n",
    "        x = x.view(x.shape[0], -1)\n",
    "        x = self.fc_layers(x)\n",
    "        return x\n",
    "\n",
    "    def sample_action(self, x):\n",
    "        # Add batch dimension if not present\n",
    "        if len(x.shape) == 3:\n",
    "            x = x.unsqueeze(0)\n",
    "            \n",
    "        distribs = Categorical(logits=self.forward(x))\n",
    "        actions = distribs.sample()\n",
    "        for i, action in enumerate(actions):\n",
    "            if action >= self.n_prim_actions:\n",
    "                option_policy = self.options[action - self.n_prim_actions]\n",
    "                actions[i] = option_policy.sample_action(x[i])\n",
    "        return actions\n",
    "\n",
    "# Define an eigenvector network\n",
    "# Input is an observation (2D image)\n",
    "# Output is a 2D matrix with the same width and height as the input\n",
    "# The architecture is nearly the same as an autoencoder's\n",
    "class EigenFunction(nn.Module):\n",
    "    def __init__(self):\n",
    "        super().__init__()\n",
    "\n",
    "        self.conv_layers = nn.Sequential(\n",
    "            nn.Conv2d(1, 16, kernel_size=5, stride=1),\n",
    "            nn.ReLU(),\n",
    "            nn.Conv2d(16, 16, kernel_size=3, stride=1),\n",
    "            nn.ReLU(),\n",
    "            nn.Conv2d(16, 32, kernel_size=3, stride=1),\n",
    "            nn.ReLU())\n",
    "\n",
    "        self.fc_layers = nn.Sequential(\n",
    "            nn.Linear(32 * 11 * 11, 128),\n",
    "            nn.ReLU(),\n",
    "            nn.Linear(128, 1))\n",
    "\n",
    "    def forward(self, x):\n",
    "        x = self.conv_layers(x)\n",
    "        x = x.contiguous().view(x.shape[0], -1)\n",
    "        x = self.fc_layers(x)\n",
    "        return x"
   ]
  },
  {
   "cell_type": "code",
   "execution_count": 225,
   "metadata": {},
   "outputs": [],
   "source": [
    "class ExperienceReplay():\n",
    "    def __init__(self, capacity):\n",
    "        self.capacity = capacity\n",
    "        self.data = []\n",
    "        \n",
    "    def add_step(self, step_data):\n",
    "        \"\"\"\n",
    "        step_data: (state, action, reward, next_state, terminal)\n",
    "        \"\"\"\n",
    "        self.data.append(step_data)\n",
    "        if len(self.data) > self.capacity:\n",
    "            self.data = self.data[-self.capacity:]\n",
    "            \n",
    "    def sample(self, n):\n",
    "        n = min(n, len(self.data))\n",
    "        indices = np.random.choice(range(len(self.data)), n, replace=False)\n",
    "        samples = np.asarray(self.data)[indices]\n",
    "        \n",
    "        state_data = torch.tensor(np.stack(samples[:, 0])).float().cuda()\n",
    "        act_data = torch.tensor(np.stack(samples[:, 1])).long().cuda()\n",
    "        reward_data = torch.tensor(np.stack(samples[:, 2])).float().cuda()\n",
    "        next_state_data = torch.tensor(np.stack(samples[:, 3])).float().cuda()\n",
    "        terminal_data = torch.tensor(np.stack(samples[:, 4])).float().cuda()\n",
    "        \n",
    "        return state_data, act_data, reward_data, next_state_data, terminal_data\n",
    "\n",
    "    def clear(self):\n",
    "        self.data = []"
   ]
  },
  {
   "cell_type": "code",
   "execution_count": 226,
   "metadata": {},
   "outputs": [],
   "source": [
    "env = make_env()"
   ]
  },
  {
   "cell_type": "code",
   "execution_count": 227,
   "metadata": {},
   "outputs": [
    {
     "name": "stdout",
     "output_type": "stream",
     "text": [
      "tensor([[0., 0., 0., 0., 0., 0., 0., 0.]], device='cuda:0',\n",
      "       grad_fn=<AddmmBackward>)\n",
      "tensor([2, 4, 1, 4, 5, 1, 2, 4, 5, 5], device='cuda:0')\n",
      "tensor([2], device='cuda:0')\n"
     ]
    }
   ],
   "source": [
    "obs = preprocess_obs(reset_env(env))\n",
    "obs = obs_to_tensor(obs)\n",
    "\n",
    "options = [Policy(env.action_space.n).to(DEVICE)]\n",
    "policy = Policy(env.action_space.n, options).to(DEVICE)\n",
    "\n",
    "print(policy(obs))\n",
    "print(policy.sample_action(torch.cat([obs] * 10, dim=0)))\n",
    "print(policy.sample_action(obs))"
   ]
  },
  {
   "cell_type": "code",
   "execution_count": 228,
   "metadata": {},
   "outputs": [
    {
     "name": "stdout",
     "output_type": "stream",
     "text": [
      "torch.Size([1, 1, 19, 19])\n",
      "torch.Size([1, 1])\n"
     ]
    }
   ],
   "source": [
    "obs = preprocess_obs(reset_env(env))\n",
    "obs = obs_to_tensor(obs)\n",
    "\n",
    "eigen_function = EigenFunction().to(DEVICE)\n",
    "\n",
    "print(obs.shape)\n",
    "print(eigen_function(obs).shape)"
   ]
  },
  {
   "cell_type": "code",
   "execution_count": 229,
   "metadata": {},
   "outputs": [],
   "source": [
    "def explore(policy, replay_buffer, n_steps=1000, env_seed=None):\n",
    "    step = 0\n",
    "    obs = preprocess_obs(reset_env(env, seed=env_seed))\n",
    "    while step < n_steps:\n",
    "        act = policy.sample_action(obs_to_tensor(obs)).item()\n",
    "        next_obs, reward, done, _ = env.step(act)\n",
    "        next_obs = preprocess_obs(next_obs)\n",
    "        replay_buffer.add_step((obs, act, reward, next_obs, done))\n",
    "\n",
    "        if done:\n",
    "            obs = preprocess_obs(reset_env(env, seed=env_seed))\n",
    "        else:\n",
    "            obs = next_obs\n",
    "            \n",
    "        step += 1"
   ]
  },
  {
   "cell_type": "code",
   "execution_count": 307,
   "metadata": {},
   "outputs": [],
   "source": [
    "def learn_eigenvector(replay_buffer, batch_size=32, n_batches=100, lagrange_mult=1):\n",
    "    eigen_function = EigenFunction().to(DEVICE)\n",
    "    eigen_optimizer = optim.Adam(eigen_function.parameters(), lr=1e-3)\n",
    "\n",
    "    losses = []\n",
    "    for _ in range(n_batches):\n",
    "        ### Loss Part 1 ###\n",
    "\n",
    "        # Sample state transitions from history\n",
    "        obs, _, _, next_obs, _ = replay_buffer.sample(batch_size)\n",
    "\n",
    "        # Calculate values of eigenvector in samples states\n",
    "        eigen_features = eigen_function(obs)\n",
    "        next_eigen_features = eigen_function(next_obs)\n",
    "\n",
    "        distance_losses = torch.square(eigen_features - next_eigen_features)\n",
    "\n",
    "        \n",
    "        ### Loss Part 2 ###\n",
    "\n",
    "        # Sample state transitions from history\n",
    "        obs, _, _, _, _ = replay_buffer.sample(batch_size)\n",
    "        _, _, _, next_obs, _ = replay_buffer.sample(batch_size)\n",
    "\n",
    "        # Calculate values of eigenvector in samples states\n",
    "        eigen_features = eigen_function(obs)\n",
    "        next_eigen_features = eigen_function(next_obs)\n",
    "\n",
    "        repulsion_losses = \\\n",
    "            (torch.square(eigen_features) - 1) * \\\n",
    "            (torch.square(next_eigen_features) - 1) + \\\n",
    "            torch.square(eigen_features) * \\\n",
    "            torch.square(next_eigen_features)\n",
    "\n",
    "        total_losses = 0.5 * distance_losses + lagrange_mult * repulsion_losses\n",
    "        loss = torch.mean(total_losses)\n",
    "        losses.append(loss.item())\n",
    "\n",
    "        eigen_optimizer.zero_grad()\n",
    "        loss.backward()\n",
    "        eigen_optimizer.step()\n",
    "\n",
    "    return eigen_function, losses\n",
    "\n",
    "def render_eigenvector(eigen_function, env, env_seed):\n",
    "    agent_indicator = np.array([10, 0, 1], dtype=np.uint8)\n",
    "    empty_indicator = np.array([1, 0, 0], dtype=np.uint8)\n",
    "\n",
    "    ev_map = np.zeros((19, 19), dtype=np.float32)\n",
    "    obs = reset_env(env, env_seed)\n",
    "    agent_pos = env.unwrapped.agent_pos\n",
    "    obs[agent_pos[0], agent_pos[1]] = empty_indicator\n",
    "    for i in range(19):\n",
    "        for j in range(19):\n",
    "            if (obs[i, j] == empty_indicator).all():\n",
    "                obs[i, j] = agent_indicator\n",
    "                tensor_obs = obs_to_tensor(preprocess_obs(obs))\n",
    "                ev_map[i, j] = eigen_function(tensor_obs).item()\n",
    "                obs[i, j] = empty_indicator\n",
    "    ev_map = ev_map.T\n",
    "\n",
    "    # Normalize the non-zero values of ev_map for plotting\n",
    "    non_zero_indices = np.nonzero(ev_map)\n",
    "    non_zero_indices = np.stack(non_zero_indices)\n",
    "    non_zero_elements = ev_map[non_zero_indices[0], non_zero_indices[1]]\n",
    "    min_val = non_zero_elements.min()\n",
    "    max_val = non_zero_elements.max()\n",
    "    ev_map[non_zero_indices[0], non_zero_indices[1]] = \\\n",
    "        (non_zero_elements - min_val) / (max_val - min_val)\n",
    "\n",
    "    # Flip the map if necessary to make the more explored states lighter colored\n",
    "    if ev_map[agent_pos[0], agent_pos[1]] < 0.5:\n",
    "        ev_map[non_zero_indices[0], non_zero_indices[1]] = \\\n",
    "            1 - ev_map[non_zero_indices[0], non_zero_indices[1]]\n",
    "\n",
    "    plt.imshow(ev_map)"
   ]
  },
  {
   "cell_type": "code",
   "execution_count": 308,
   "metadata": {},
   "outputs": [
    {
     "name": "stderr",
     "output_type": "stream",
     "text": [
      "<ipython-input-225-95dbd8d46284>:17: VisibleDeprecationWarning: Creating an ndarray from ragged nested sequences (which is a list-or-tuple of lists-or-tuples-or ndarrays with different lengths or shapes) is deprecated. If you meant to do this, you must specify 'dtype=object' when creating the ndarray.\n",
      "  samples = np.asarray(self.data)[indices]\n"
     ]
    }
   ],
   "source": [
    "explore_steps = 10000\n",
    "ev_batch_size = 32\n",
    "ev_batches = 50\n",
    "lagrange_mult = 1\n",
    "env_seed = 0\n",
    "\n",
    "replay_buffer = ExperienceReplay(capacity=100000)\n",
    "\n",
    "# Start loop\n",
    "\n",
    "# Explore and gather samples\n",
    "replay_buffer.clear()\n",
    "exploration_policy = Policy(env.action_space.n).to(DEVICE)\n",
    "explore(exploration_policy, replay_buffer, explore_steps, env_seed)\n",
    "\n",
    "# Learn the eigenvector\n",
    "eigen_function, losses = learn_eigenvector(replay_buffer,\n",
    "    ev_batch_size, ev_batches, lagrange_mult)\n"
   ]
  },
  {
   "cell_type": "code",
   "execution_count": 309,
   "metadata": {},
   "outputs": [
    {
     "data": {
      "text/plain": [
       "[<matplotlib.lines.Line2D at 0x23240eaa460>]"
      ]
     },
     "execution_count": 309,
     "metadata": {},
     "output_type": "execute_result"
    },
    {
     "data": {
      "image/png": "[encoded data removed]",
      "text/plain": [
       "<Figure size 432x288 with 1 Axes>"
      ]
     },
     "metadata": {
      "needs_background": "light"
     },
     "output_type": "display_data"
    }
   ],
   "source": [
    "plt.plot(losses)"
   ]
  },
  {
   "cell_type": "code",
   "execution_count": 310,
   "metadata": {},
   "outputs": [
    {
     "data": {
      "image/png": "[encoded data removed]",
      "text/plain": [
       "<Figure size 432x288 with 1 Axes>"
      ]
     },
     "metadata": {
      "needs_background": "light"
     },
     "output_type": "display_data"
    }
   ],
   "source": [
    "reset_env(env, seed=env_seed)\n",
    "render_state(env)"
   ]
  },
  {
   "cell_type": "code",
   "execution_count": 311,
   "metadata": {},
   "outputs": [
    {
     "data": {
      "image/png": "[encoded data removed]",
      "text/plain": [
       "<Figure size 432x288 with 1 Axes>"
      ]
     },
     "metadata": {
      "needs_background": "light"
     },
     "output_type": "display_data"
    }
   ],
   "source": [
    "render_eigenvector(eigen_function, env, env_seed)"
   ]
  }
 ],
 "metadata": {
  "interpreter": {
   "hash": "6717cf457fe527f2ad07ab71b4770f157b357bf37d07e7427487ba89b10c0212"
  },
  "kernelspec": {
   "display_name": "Python 3.9.7 64-bit ('ml2': conda)",
   "name": "python3"
  },
  "language_info": {
   "codemirror_mode": {
    "name": "ipython",
    "version": 3
   },
   "file_extension": ".py",
   "mimetype": "text/x-python",
   "name": "python",
   "nbconvert_exporter": "python",
   "pygments_lexer": "ipython3",
   "version": "3.9.7"
  },
  "orig_nbformat": 4
 },
 "nbformat": 4,
 "nbformat_minor": 2
}
